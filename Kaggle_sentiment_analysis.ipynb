{
  "nbformat": 4,
  "nbformat_minor": 0,
  "metadata": {
    "colab": {
      "name": "Kaggle_sentiment analysis.ipynb",
      "provenance": [],
      "collapsed_sections": []
    },
    "kernelspec": {
      "name": "python3",
      "display_name": "Python 3"
    }
  },
  "cells": [
    {
      "cell_type": "code",
      "metadata": {
        "id": "Rh_A_R_HlRRi",
        "colab_type": "code",
        "colab": {}
      },
      "source": [
        "#Glove(Global vector for word Representation)\n",
        "#Kaggle Sentiment analysis"
      ],
      "execution_count": 1,
      "outputs": []
    },
    {
      "cell_type": "code",
      "metadata": {
        "id": "sF5r1okblRXQ",
        "colab_type": "code",
        "colab": {}
      },
      "source": [
        "import json\n",
        "import tensorflow as tf\n",
        "import csv\n",
        "import random\n",
        "import numpy as np\n",
        "\n",
        "from tensorflow.keras.preprocessing.text import Tokenizer\n",
        "from tensorflow.keras.preprocessing.sequence import pad_sequences\n",
        "from tensorflow.keras.utils import to_categorical\n",
        "from tensorflow.keras import regularizers\n",
        "\n",
        "\n",
        "embedding_dim = 100\n",
        "max_length = 16\n",
        "trunc_type='post'\n",
        "padding_type='post'\n",
        "oov_tok = \"<OOV>\"\n",
        "training_size=160000\n",
        "test_portion=.1\n",
        "\n",
        "corpus = []\n"
      ],
      "execution_count": 2,
      "outputs": []
    },
    {
      "cell_type": "code",
      "metadata": {
        "id": "7zfvmlDmlR85",
        "colab_type": "code",
        "colab": {
          "base_uri": "https://localhost:8080/",
          "height": 204
        },
        "outputId": "e1acf8e9-c97f-422f-961e-b5177ad251ab"
      },
      "source": [
        "\n",
        "\n",
        "!wget --no-check-certificate \\\n",
        "    https://storage.googleapis.com/laurencemoroney-blog.appspot.com/training_cleaned.csv \\\n",
        "    -O /tmp/training_cleaned.csv\n",
        "\n",
        "num_sentences = 0\n",
        "\n",
        "with open(\"/tmp/training_cleaned.csv\") as csvfile:\n",
        "    reader = csv.reader(csvfile, delimiter=',')\n",
        "    for row in reader:\n",
        "        list_item=[]\n",
        "        list_item.append(row[5])\n",
        "        this_label=row[0]\n",
        "        if this_label=='0':\n",
        "            list_item.append(0)\n",
        "        else:\n",
        "            list_item.append(1)\n",
        "        num_sentences = num_sentences + 1\n",
        "        corpus.append(list_item)\n"
      ],
      "execution_count": 3,
      "outputs": [
        {
          "output_type": "stream",
          "text": [
            "--2020-07-02 08:14:18--  https://storage.googleapis.com/laurencemoroney-blog.appspot.com/training_cleaned.csv\n",
            "Resolving storage.googleapis.com (storage.googleapis.com)... 74.125.203.128, 74.125.204.128, 64.233.188.128, ...\n",
            "Connecting to storage.googleapis.com (storage.googleapis.com)|74.125.203.128|:443... connected.\n",
            "HTTP request sent, awaiting response... 200 OK\n",
            "Length: 238942690 (228M) [application/octet-stream]\n",
            "Saving to: ‘/tmp/training_cleaned.csv’\n",
            "\n",
            "/tmp/training_clean 100%[===================>] 227.87M  58.6MB/s    in 3.9s    \n",
            "\n",
            "2020-07-02 08:14:23 (58.6 MB/s) - ‘/tmp/training_cleaned.csv’ saved [238942690/238942690]\n",
            "\n"
          ],
          "name": "stdout"
        }
      ]
    },
    {
      "cell_type": "code",
      "metadata": {
        "id": "Vi9JB1VvlR6E",
        "colab_type": "code",
        "colab": {
          "base_uri": "https://localhost:8080/",
          "height": 68
        },
        "outputId": "cface358-0f2f-4393-bc98-a01ce517f625"
      },
      "source": [
        "print(num_sentences)\n",
        "print(len(corpus))\n",
        "print(corpus[1])\n"
      ],
      "execution_count": 4,
      "outputs": [
        {
          "output_type": "stream",
          "text": [
            "1600000\n",
            "1600000\n",
            "[\"is upset that he can't update his Facebook by texting it... and might cry as a result  School today also. Blah!\", 0]\n"
          ],
          "name": "stdout"
        }
      ]
    },
    {
      "cell_type": "code",
      "metadata": {
        "id": "zT0fWO3ZlR3G",
        "colab_type": "code",
        "colab": {}
      },
      "source": [
        "sentences=[]\n",
        "labels=[]\n",
        "random.shuffle(corpus)\n",
        "for x in range(training_size):\n",
        "    sentences.append(corpus[x][0])\n",
        "    labels.append(corpus[x][1])\n",
        "\n",
        "\n",
        "tokenizer = Tokenizer()\n",
        "tokenizer.fit_on_texts(sentences)\n",
        "\n",
        "word_index = tokenizer.word_index\n",
        "vocab_size=len(word_index)\n",
        "\n",
        "sequences = tokenizer.texts_to_sequences(sentences)\n",
        "padded = pad_sequences(sequences, maxlen=max_length, padding=padding_type, truncating=trunc_type)\n",
        "\n",
        "split = int(test_portion * training_size)\n",
        "\n",
        "test_sequences = padded[0:split]\n",
        "training_sequences = padded[split:training_size]\n",
        "test_labels = labels[0:split]\n",
        "training_labels = labels[split:training_size]"
      ],
      "execution_count": 5,
      "outputs": []
    },
    {
      "cell_type": "code",
      "metadata": {
        "id": "uh7t_mutlR0h",
        "colab_type": "code",
        "colab": {
          "base_uri": "https://localhost:8080/",
          "height": 51
        },
        "outputId": "86555a55-24e2-4f4e-8b7e-c4c08ca95e0e"
      },
      "source": [
        "print(vocab_size)\n",
        "print(word_index['i'])"
      ],
      "execution_count": 6,
      "outputs": [
        {
          "output_type": "stream",
          "text": [
            "138206\n",
            "1\n"
          ],
          "name": "stdout"
        }
      ]
    },
    {
      "cell_type": "code",
      "metadata": {
        "id": "RuT48qY_lRx4",
        "colab_type": "code",
        "colab": {
          "base_uri": "https://localhost:8080/",
          "height": 204
        },
        "outputId": "25b9bd0e-8932-47b3-8615-116a6ce2869d"
      },
      "source": [
        "\n",
        "!wget --no-check-certificate \\\n",
        "    https://storage.googleapis.com/laurencemoroney-blog.appspot.com/glove.6B.100d.txt \\\n",
        "    -O /tmp/glove.6B.100d.txt\n",
        "embeddings_index = {};\n",
        "with open('/tmp/glove.6B.100d.txt') as f:\n",
        "    for line in f:\n",
        "        values = line.split();\n",
        "        word = values[0];\n",
        "        coefs = np.asarray(values[1:], dtype='float32');\n",
        "        embeddings_index[word] = coefs;\n",
        "\n",
        "embeddings_matrix = np.zeros((vocab_size+1, embedding_dim));\n",
        "for word, i in word_index.items():\n",
        "    embedding_vector = embeddings_index.get(word);\n",
        "    if embedding_vector is not None:\n",
        "        embeddings_matrix[i] = embedding_vector;"
      ],
      "execution_count": 7,
      "outputs": [
        {
          "output_type": "stream",
          "text": [
            "--2020-07-02 08:14:38--  https://storage.googleapis.com/laurencemoroney-blog.appspot.com/glove.6B.100d.txt\n",
            "Resolving storage.googleapis.com (storage.googleapis.com)... 64.233.188.128, 64.233.189.128, 108.177.125.128, ...\n",
            "Connecting to storage.googleapis.com (storage.googleapis.com)|64.233.188.128|:443... connected.\n",
            "HTTP request sent, awaiting response... 200 OK\n",
            "Length: 347116733 (331M) [text/plain]\n",
            "Saving to: ‘/tmp/glove.6B.100d.txt’\n",
            "\n",
            "/tmp/glove.6B.100d. 100%[===================>] 331.04M  66.9MB/s    in 4.9s    \n",
            "\n",
            "2020-07-02 08:14:43 (66.9 MB/s) - ‘/tmp/glove.6B.100d.txt’ saved [347116733/347116733]\n",
            "\n"
          ],
          "name": "stdout"
        }
      ]
    },
    {
      "cell_type": "code",
      "metadata": {
        "id": "sf-z0gmolRvT",
        "colab_type": "code",
        "colab": {
          "base_uri": "https://localhost:8080/",
          "height": 1000
        },
        "outputId": "4817bdcf-aee5-4162-864d-50dcbcfe13e7"
      },
      "source": [
        "model = tf.keras.Sequential([\n",
        "    tf.keras.layers.Embedding(vocab_size+1, embedding_dim, input_length=max_length, weights=[embeddings_matrix], trainable=False),\n",
        "    tf.keras.layers.Dropout(0.2),\n",
        "    tf.keras.layers.Conv1D(64, 5, activation='relu'),\n",
        "    tf.keras.layers.MaxPooling1D(pool_size=4),\n",
        "    tf.keras.layers.LSTM(64),\n",
        "    tf.keras.layers.Dense(1, activation='sigmoid')\n",
        "])\n",
        "model.compile(loss='binary_crossentropy',optimizer='adam',metrics=['accuracy'])\n",
        "model.summary()\n",
        "\n",
        "num_epochs = 50\n",
        "\n",
        "training_padded = np.array(training_sequences)\n",
        "training_labels = np.array(training_labels)\n",
        "testing_padded = np.array(test_sequences)\n",
        "testing_labels = np.array(test_labels)\n",
        "\n",
        "history = model.fit(training_padded, training_labels, epochs=num_epochs, validation_data=(testing_padded, testing_labels), verbose=2)\n",
        "\n",
        "print(\"Training Complete\")"
      ],
      "execution_count": 8,
      "outputs": [
        {
          "output_type": "stream",
          "text": [
            "Model: \"sequential\"\n",
            "_________________________________________________________________\n",
            "Layer (type)                 Output Shape              Param #   \n",
            "=================================================================\n",
            "embedding (Embedding)        (None, 16, 100)           13820700  \n",
            "_________________________________________________________________\n",
            "dropout (Dropout)            (None, 16, 100)           0         \n",
            "_________________________________________________________________\n",
            "conv1d (Conv1D)              (None, 12, 64)            32064     \n",
            "_________________________________________________________________\n",
            "max_pooling1d (MaxPooling1D) (None, 3, 64)             0         \n",
            "_________________________________________________________________\n",
            "lstm (LSTM)                  (None, 64)                33024     \n",
            "_________________________________________________________________\n",
            "dense (Dense)                (None, 1)                 65        \n",
            "=================================================================\n",
            "Total params: 13,885,853\n",
            "Trainable params: 65,153\n",
            "Non-trainable params: 13,820,700\n",
            "_________________________________________________________________\n",
            "Epoch 1/50\n",
            "4500/4500 - 25s - loss: 0.5706 - accuracy: 0.6956 - val_loss: 0.5269 - val_accuracy: 0.7364\n",
            "Epoch 2/50\n",
            "4500/4500 - 25s - loss: 0.5310 - accuracy: 0.7288 - val_loss: 0.5077 - val_accuracy: 0.7482\n",
            "Epoch 3/50\n",
            "4500/4500 - 24s - loss: 0.5134 - accuracy: 0.7429 - val_loss: 0.4985 - val_accuracy: 0.7573\n",
            "Epoch 4/50\n",
            "4500/4500 - 25s - loss: 0.5024 - accuracy: 0.7494 - val_loss: 0.5018 - val_accuracy: 0.7519\n",
            "Epoch 5/50\n",
            "4500/4500 - 24s - loss: 0.4938 - accuracy: 0.7553 - val_loss: 0.4975 - val_accuracy: 0.7513\n",
            "Epoch 6/50\n",
            "4500/4500 - 23s - loss: 0.4861 - accuracy: 0.7608 - val_loss: 0.4954 - val_accuracy: 0.7549\n",
            "Epoch 7/50\n",
            "4500/4500 - 24s - loss: 0.4792 - accuracy: 0.7644 - val_loss: 0.4964 - val_accuracy: 0.7583\n",
            "Epoch 8/50\n",
            "4500/4500 - 24s - loss: 0.4753 - accuracy: 0.7673 - val_loss: 0.4924 - val_accuracy: 0.7574\n",
            "Epoch 9/50\n",
            "4500/4500 - 23s - loss: 0.4705 - accuracy: 0.7705 - val_loss: 0.4981 - val_accuracy: 0.7560\n",
            "Epoch 10/50\n",
            "4500/4500 - 23s - loss: 0.4681 - accuracy: 0.7712 - val_loss: 0.4942 - val_accuracy: 0.7566\n",
            "Epoch 11/50\n",
            "4500/4500 - 23s - loss: 0.4633 - accuracy: 0.7749 - val_loss: 0.4946 - val_accuracy: 0.7583\n",
            "Epoch 12/50\n",
            "4500/4500 - 23s - loss: 0.4609 - accuracy: 0.7771 - val_loss: 0.4980 - val_accuracy: 0.7584\n",
            "Epoch 13/50\n",
            "4500/4500 - 23s - loss: 0.4580 - accuracy: 0.7793 - val_loss: 0.4955 - val_accuracy: 0.7567\n",
            "Epoch 14/50\n",
            "4500/4500 - 23s - loss: 0.4561 - accuracy: 0.7808 - val_loss: 0.4985 - val_accuracy: 0.7579\n",
            "Epoch 15/50\n",
            "4500/4500 - 23s - loss: 0.4535 - accuracy: 0.7802 - val_loss: 0.5019 - val_accuracy: 0.7571\n",
            "Epoch 16/50\n",
            "4500/4500 - 23s - loss: 0.4518 - accuracy: 0.7829 - val_loss: 0.4977 - val_accuracy: 0.7563\n",
            "Epoch 17/50\n",
            "4500/4500 - 23s - loss: 0.4493 - accuracy: 0.7830 - val_loss: 0.5006 - val_accuracy: 0.7592\n",
            "Epoch 18/50\n",
            "4500/4500 - 24s - loss: 0.4482 - accuracy: 0.7845 - val_loss: 0.4979 - val_accuracy: 0.7554\n",
            "Epoch 19/50\n",
            "4500/4500 - 23s - loss: 0.4462 - accuracy: 0.7860 - val_loss: 0.4981 - val_accuracy: 0.7588\n",
            "Epoch 20/50\n",
            "4500/4500 - 23s - loss: 0.4445 - accuracy: 0.7871 - val_loss: 0.5057 - val_accuracy: 0.7551\n",
            "Epoch 21/50\n",
            "4500/4500 - 23s - loss: 0.4424 - accuracy: 0.7877 - val_loss: 0.5021 - val_accuracy: 0.7581\n",
            "Epoch 22/50\n",
            "4500/4500 - 23s - loss: 0.4425 - accuracy: 0.7877 - val_loss: 0.5035 - val_accuracy: 0.7542\n",
            "Epoch 23/50\n",
            "4500/4500 - 23s - loss: 0.4416 - accuracy: 0.7881 - val_loss: 0.5011 - val_accuracy: 0.7577\n",
            "Epoch 24/50\n",
            "4500/4500 - 23s - loss: 0.4413 - accuracy: 0.7877 - val_loss: 0.5044 - val_accuracy: 0.7548\n",
            "Epoch 25/50\n",
            "4500/4500 - 23s - loss: 0.4424 - accuracy: 0.7875 - val_loss: 0.5045 - val_accuracy: 0.7541\n",
            "Epoch 26/50\n",
            "4500/4500 - 23s - loss: 0.4394 - accuracy: 0.7906 - val_loss: 0.5086 - val_accuracy: 0.7504\n",
            "Epoch 27/50\n",
            "4500/4500 - 23s - loss: 0.4380 - accuracy: 0.7905 - val_loss: 0.5061 - val_accuracy: 0.7510\n",
            "Epoch 28/50\n",
            "4500/4500 - 23s - loss: 0.4376 - accuracy: 0.7908 - val_loss: 0.5038 - val_accuracy: 0.7514\n",
            "Epoch 29/50\n",
            "4500/4500 - 23s - loss: 0.4372 - accuracy: 0.7918 - val_loss: 0.5062 - val_accuracy: 0.7518\n",
            "Epoch 30/50\n",
            "4500/4500 - 23s - loss: 0.4355 - accuracy: 0.7915 - val_loss: 0.5063 - val_accuracy: 0.7513\n",
            "Epoch 31/50\n",
            "4500/4500 - 24s - loss: 0.4352 - accuracy: 0.7925 - val_loss: 0.5070 - val_accuracy: 0.7538\n",
            "Epoch 32/50\n",
            "4500/4500 - 23s - loss: 0.4351 - accuracy: 0.7932 - val_loss: 0.5068 - val_accuracy: 0.7562\n",
            "Epoch 33/50\n",
            "4500/4500 - 23s - loss: 0.4340 - accuracy: 0.7927 - val_loss: 0.5092 - val_accuracy: 0.7552\n",
            "Epoch 34/50\n",
            "4500/4500 - 23s - loss: 0.4341 - accuracy: 0.7929 - val_loss: 0.5091 - val_accuracy: 0.7563\n",
            "Epoch 35/50\n",
            "4500/4500 - 23s - loss: 0.4336 - accuracy: 0.7934 - val_loss: 0.5094 - val_accuracy: 0.7548\n",
            "Epoch 36/50\n",
            "4500/4500 - 23s - loss: 0.4322 - accuracy: 0.7953 - val_loss: 0.5094 - val_accuracy: 0.7526\n",
            "Epoch 37/50\n",
            "4500/4500 - 23s - loss: 0.4331 - accuracy: 0.7937 - val_loss: 0.5129 - val_accuracy: 0.7502\n",
            "Epoch 38/50\n",
            "4500/4500 - 23s - loss: 0.4310 - accuracy: 0.7949 - val_loss: 0.5098 - val_accuracy: 0.7557\n",
            "Epoch 39/50\n",
            "4500/4500 - 23s - loss: 0.4323 - accuracy: 0.7946 - val_loss: 0.5131 - val_accuracy: 0.7510\n",
            "Epoch 40/50\n",
            "4500/4500 - 23s - loss: 0.4319 - accuracy: 0.7935 - val_loss: 0.5128 - val_accuracy: 0.7529\n",
            "Epoch 41/50\n",
            "4500/4500 - 23s - loss: 0.4311 - accuracy: 0.7957 - val_loss: 0.5082 - val_accuracy: 0.7533\n",
            "Epoch 42/50\n",
            "4500/4500 - 23s - loss: 0.4319 - accuracy: 0.7948 - val_loss: 0.5099 - val_accuracy: 0.7535\n",
            "Epoch 43/50\n",
            "4500/4500 - 23s - loss: 0.4316 - accuracy: 0.7947 - val_loss: 0.5111 - val_accuracy: 0.7516\n",
            "Epoch 44/50\n",
            "4500/4500 - 25s - loss: 0.4298 - accuracy: 0.7958 - val_loss: 0.5070 - val_accuracy: 0.7557\n",
            "Epoch 45/50\n",
            "4500/4500 - 23s - loss: 0.4306 - accuracy: 0.7962 - val_loss: 0.5094 - val_accuracy: 0.7562\n",
            "Epoch 46/50\n",
            "4500/4500 - 23s - loss: 0.4302 - accuracy: 0.7946 - val_loss: 0.5083 - val_accuracy: 0.7525\n",
            "Epoch 47/50\n",
            "4500/4500 - 23s - loss: 0.4306 - accuracy: 0.7943 - val_loss: 0.5076 - val_accuracy: 0.7519\n",
            "Epoch 48/50\n",
            "4500/4500 - 23s - loss: 0.4288 - accuracy: 0.7962 - val_loss: 0.5120 - val_accuracy: 0.7511\n",
            "Epoch 49/50\n",
            "4500/4500 - 23s - loss: 0.4291 - accuracy: 0.7959 - val_loss: 0.5137 - val_accuracy: 0.7512\n",
            "Epoch 50/50\n",
            "4500/4500 - 23s - loss: 0.4282 - accuracy: 0.7965 - val_loss: 0.5113 - val_accuracy: 0.7525\n",
            "Training Complete\n"
          ],
          "name": "stdout"
        }
      ]
    },
    {
      "cell_type": "code",
      "metadata": {
        "id": "4T-v3ZlslRs5",
        "colab_type": "code",
        "colab": {
          "base_uri": "https://localhost:8080/",
          "height": 607
        },
        "outputId": "35929f03-a4fd-47eb-a704-aa93505ca98d"
      },
      "source": [
        "import matplotlib.image  as mpimg\n",
        "import matplotlib.pyplot as plt\n",
        "\n",
        "#-----------------------------------------------------------\n",
        "# Retrieve a list of list results on training and test data\n",
        "# sets for each training epoch\n",
        "#-----------------------------------------------------------\n",
        "acc=history.history['accuracy']\n",
        "val_acc=history.history['val_accuracy']\n",
        "loss=history.history['loss']\n",
        "val_loss=history.history['val_loss']\n",
        "\n",
        "epochs=range(len(acc)) # Get number of epochs\n",
        "\n",
        "#------------------------------------------------\n",
        "# Plot training and validation accuracy per epoch\n",
        "#------------------------------------------------\n",
        "plt.plot(epochs, acc, 'r')\n",
        "plt.plot(epochs, val_acc, 'b')\n",
        "plt.title('Training and validation accuracy')\n",
        "plt.xlabel(\"Epochs\")\n",
        "plt.ylabel(\"Accuracy\")\n",
        "plt.legend([\"Accuracy\", \"Validation Accuracy\"])\n",
        "\n",
        "plt.figure()\n",
        "\n",
        "#------------------------------------------------\n",
        "# Plot training and validation loss per epoch\n",
        "#------------------------------------------------\n",
        "plt.plot(epochs, loss, 'r')\n",
        "plt.plot(epochs, val_loss, 'b')\n",
        "plt.title('Training and validation loss')\n",
        "plt.xlabel(\"Epochs\")\n",
        "plt.ylabel(\"Loss\")\n",
        "plt.legend([\"Loss\", \"Validation Loss\"])\n",
        "\n",
        "plt.figure()\n",
        "\n"
      ],
      "execution_count": 9,
      "outputs": [
        {
          "output_type": "execute_result",
          "data": {
            "text/plain": [
              "<Figure size 432x288 with 0 Axes>"
            ]
          },
          "metadata": {
            "tags": []
          },
          "execution_count": 9
        },
        {
          "output_type": "display_data",
          "data": {
            "image/png": "[encoded data removed]",
            "text/plain": [
              "<Figure size 432x288 with 1 Axes>"
            ]
          },
          "metadata": {
            "tags": [],
            "needs_background": "light"
          }
        },
        {
          "output_type": "display_data",
          "data": {
            "image/png": "[encoded data removed]",
            "text/plain": [
              "<Figure size 432x288 with 1 Axes>"
            ]
          },
          "metadata": {
            "tags": [],
            "needs_background": "light"
          }
        },
        {
          "output_type": "display_data",
          "data": {
            "text/plain": [
              "<Figure size 432x288 with 0 Axes>"
            ]
          },
          "metadata": {
            "tags": []
          }
        }
      ]
    },
    {
      "cell_type": "code",
      "metadata": {
        "id": "02MqWv8klRmU",
        "colab_type": "code",
        "colab": {}
      },
      "source": [
        ""
      ],
      "execution_count": null,
      "outputs": []
    },
    {
      "cell_type": "code",
      "metadata": {
        "id": "p3s0G1fhlRjI",
        "colab_type": "code",
        "colab": {}
      },
      "source": [
        ""
      ],
      "execution_count": null,
      "outputs": []
    },
    {
      "cell_type": "code",
      "metadata": {
        "id": "z6Od1cw3lRgH",
        "colab_type": "code",
        "colab": {}
      },
      "source": [
        ""
      ],
      "execution_count": null,
      "outputs": []
    },
    {
      "cell_type": "code",
      "metadata": {
        "id": "2Sv8J4ihlRcw",
        "colab_type": "code",
        "colab": {}
      },
      "source": [
        ""
      ],
      "execution_count": null,
      "outputs": []
    },
    {
      "cell_type": "code",
      "metadata": {
        "id": "bO4d9H5nlRa7",
        "colab_type": "code",
        "colab": {}
      },
      "source": [
        ""
      ],
      "execution_count": null,
      "outputs": []
    },
    {
      "cell_type": "code",
      "metadata": {
        "id": "LjxiZJeZlRVT",
        "colab_type": "code",
        "colab": {}
      },
      "source": [
        ""
      ],
      "execution_count": null,
      "outputs": []
    }
  ]
}